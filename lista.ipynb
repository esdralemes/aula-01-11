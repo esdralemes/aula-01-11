{
 "cells": [
  {
   "cell_type": "code",
   "execution_count": 6,
   "id": "initial_id",
   "metadata": {
    "collapsed": true,
    "ExecuteTime": {
     "end_time": "2023-11-01T22:48:44.371960900Z",
     "start_time": "2023-11-01T22:48:44.365860800Z"
    }
   },
   "outputs": [
    {
     "name": "stdout",
     "output_type": "stream",
     "text": [
      "67\n",
      "89\n",
      "100\n",
      "1104\n"
     ]
    }
   ],
   "source": [
    "## Faça um programa que olhe todos os itens de uma lista e diga quantos deles são pares. ##\n",
    "\n",
    "lista = [3, 67, 89, -100, 34, 0, 7, 4, 100, 1104, 25]\n",
    "\n",
    "max = lista[0]\n",
    "\n",
    "for numero in lista[1:]:\n",
    "    if numero > max:\n",
    "        max = numero\n",
    "\n",
    "        print(max)\n"
   ]
  },
  {
   "cell_type": "code",
   "execution_count": 4,
   "outputs": [
    {
     "name": "stdout",
     "output_type": "stream",
     "text": [
      "76.7 ns ± 0.659 ns per loop (mean ± std. dev. of 7 runs, 10,000,000 loops each)\n"
     ]
    }
   ],
   "source": [
    "%%timeit\n",
    "lista.sort()\n",
    "\n",
    "lista[-1]"
   ],
   "metadata": {
    "collapsed": false,
    "ExecuteTime": {
     "end_time": "2023-11-01T22:47:10.430506600Z",
     "start_time": "2023-11-01T22:47:04.171934300Z"
    }
   },
   "id": "8a540e6438c45d56"
  },
  {
   "cell_type": "code",
   "execution_count": null,
   "outputs": [],
   "source": [],
   "metadata": {
    "collapsed": false
   },
   "id": "669ff85ce385f5"
  }
 ],
 "metadata": {
  "kernelspec": {
   "display_name": "Python 3",
   "language": "python",
   "name": "python3"
  },
  "language_info": {
   "codemirror_mode": {
    "name": "ipython",
    "version": 2
   },
   "file_extension": ".py",
   "mimetype": "text/x-python",
   "name": "python",
   "nbconvert_exporter": "python",
   "pygments_lexer": "ipython2",
   "version": "2.7.6"
  }
 },
 "nbformat": 4,
 "nbformat_minor": 5
}
